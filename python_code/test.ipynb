{
 "cells": [
  {
   "cell_type": "code",
   "execution_count": 3,
   "metadata": {},
   "outputs": [],
   "source": [
    "import tensorflow as tf\n",
    "import keras\n",
    "import numpy as np"
   ]
  },
  {
   "cell_type": "code",
   "execution_count": null,
   "metadata": {},
   "outputs": [
    {
     "name": "stdout",
     "output_type": "stream",
     "text": [
      "Loss: 0.4243219\n",
      "Gradient:\n",
      " [[ 0.3333333  -0.08333333  0.3333333 ]\n",
      " [-0.14285716  0.3333333   0.3333333 ]\n",
      " [ 0.33333334  0.33333334 -0.33333334]]\n"
     ]
    }
   ],
   "source": [
    "# Import necessary libraries\n",
    "import matplotlib.pyplot as plt\n",
    "from tensorflow.keras.datasets import fashion_mnist\n",
    "from PIL import Image\n",
    "import numpy as np\n",
    "import random\n",
    "\n",
    "# Load the Fashion MNIST dataset\n",
    "(train_images, train_labels), (test_images, test_labels) = fashion_mnist.load_data()\n",
    "\n",
    "label_names = ['T-shirt/top', 'Trouser', 'Pullover', 'Dress', 'Coat',\n",
    "               'Sandal', 'Shirt', 'Sneaker', 'Bag', 'Ankle boot']\n",
    "\n",
    "# Generate a random image index\n",
    "image_index = random.randint(0, len(train_images) - 1)\n",
    "\n",
    "# Select the image using the random index\n",
    "image = train_images[image_index]\n",
    "\n",
    "# Display the image\n",
    "plt.figure(figsize=(4, 4))\n",
    "plt.imshow(image, cmap='gray')  # Display in grayscale\n",
    "plt.title(f\"Label: {train_labels[image_index]} ({label_names[train_labels[image_index]]})\")  # Display the label\n",
    "plt.axis('off')\n",
    "plt.show()\n",
    "\n",
    "# Save the image to a file\n",
    "# Convert to PIL Image and save as PNG\n",
    "image_pil = Image.fromarray(image)\n",
    "image_pil.save(\"sample_image.png\")\n",
    "print(\"Image saved as 'sample_image.png'\")\n",
    "\n",
    "from PIL import Image\n",
    "import numpy as np\n",
    "\n",
    "# Load the image\n",
    "image = Image.open('./sample_image.png')\n",
    "\n",
    "# Convert to grayscale\n",
    "image = image.convert('L')\n",
    "\n",
    "# Resize to 28x28 pixels\n",
    "image = image.resize((28, 28))\n",
    "\n",
    "# Convert to numpy array\n",
    "image_array = np.array(image)\n",
    "\n",
    "# Save as raw binary file\n",
    "image_array.tofile('image_28x28.raw')"
   ]
  },
  {
   "cell_type": "code",
   "execution_count": 6,
   "metadata": {},
   "outputs": [
    {
     "data": {
      "text/plain": [
       "<tf.Tensor: shape=(), dtype=float32, numpy=0.49870303>"
      ]
     },
     "execution_count": 6,
     "metadata": {},
     "output_type": "execute_result"
    },
    {
     "ename": "",
     "evalue": "",
     "output_type": "error",
     "traceback": [
      "\u001b[1;31mnotebook controller is DISPOSED. \n",
      "\u001b[1;31mView Jupyter <a href='command:jupyter.viewOutput'>log</a> for further details."
     ]
    }
   ],
   "source": [
    "# Define loss object\n",
    "loss_obj = keras.losses.SparseCategoricalCrossentropy(from_logits=False)\n",
    "\n",
    "# Compute the gradient\n",
    "with tf.GradientTape() as tape:\n",
    "    tape.watch(y_pred)  # Watch the predicted values\n",
    "    loss = loss_obj(y_true, y_pred)  # Calculate the loss\n",
    "\n",
    "# Get the gradient of the loss with respect to y_pred\n",
    "gradients = tape.gradient(loss, y_pred)\n",
    "\n",
    "print(\"Loss:\", loss.numpy())\n",
    "print(\"Gradients:\", gradients.numpy())\n"
   ]
  }
 ],
 "metadata": {
  "kernelspec": {
   "display_name": "fashionet",
   "language": "python",
   "name": "python3"
  },
  "language_info": {
   "codemirror_mode": {
    "name": "ipython",
    "version": 3
   },
   "file_extension": ".py",
   "mimetype": "text/x-python",
   "name": "python",
   "nbconvert_exporter": "python",
   "pygments_lexer": "ipython3",
   "version": "3.10.16"
  }
 },
 "nbformat": 4,
 "nbformat_minor": 2
}
