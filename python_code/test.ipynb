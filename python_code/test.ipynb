{
 "cells": [
  {
   "cell_type": "code",
   "execution_count": 3,
   "metadata": {},
   "outputs": [],
   "source": [
    "import tensorflow as tf\n",
    "import keras\n",
    "import numpy as np"
   ]
  },
  {
   "cell_type": "code",
   "execution_count": null,
   "metadata": {},
   "outputs": [
    {
     "name": "stdout",
     "output_type": "stream",
     "text": [
      "Loss: 0.4243219\n",
      "Gradient:\n",
      " [[ 0.3333333  -0.08333333  0.3333333 ]\n",
      " [-0.14285716  0.3333333   0.3333333 ]\n",
      " [ 0.33333334  0.33333334 -0.33333334]]\n"
     ]
    }
   ],
   "source": [
    "# True labels (one-hot encoded)\n",
    "y_true = np.array([1, 0, 2])\n",
    "\n",
    "# Predicted probabilities\n",
    "y_pred = np.array([[0.1, 0.8, 0.1], [0.7, 0.2, 0.1], [0.2, 0.3, 0.5]])\n",
    "\n",
    "# Convert to tensors\n",
    "y_true_tensor = tf.constant(y_true)\n",
    "y_pred_tensor = tf.constant(y_pred, dtype=tf.float32)\n",
    "\n",
    "# Compute loss and gradients\n",
    "with tf.GradientTape() as tape:\n",
    "    tape.watch(y_pred_tensor)\n",
    "    loss = keras.losses.SparseCategoricalCrossentropy()(y_true_tensor, y_pred_tensor)\n",
    "\n",
    "# Compute gradient\n",
    "grad = tape.gradient(loss, y_pred_tensor)\n",
    "\n",
    "print(\"Loss:\", loss.numpy())\n",
    "print(\"Gradient:\\n\", grad.numpy())\n"
   ]
  },
  {
   "cell_type": "code",
   "execution_count": 6,
   "metadata": {},
   "outputs": [
    {
     "data": {
      "text/plain": [
       "<tf.Tensor: shape=(), dtype=float32, numpy=0.49870303>"
      ]
     },
     "execution_count": 6,
     "metadata": {},
     "output_type": "execute_result"
    },
    {
     "ename": "",
     "evalue": "",
     "output_type": "error",
     "traceback": [
      "\u001b[1;31mnotebook controller is DISPOSED. \n",
      "\u001b[1;31mView Jupyter <a href='command:jupyter.viewOutput'>log</a> for further details."
     ]
    }
   ],
   "source": [
    "# Define loss object\n",
    "loss_obj = keras.losses.SparseCategoricalCrossentropy(from_logits=False)\n",
    "\n",
    "# Compute the gradient\n",
    "with tf.GradientTape() as tape:\n",
    "    tape.watch(y_pred)  # Watch the predicted values\n",
    "    loss = loss_obj(y_true, y_pred)  # Calculate the loss\n",
    "\n",
    "# Get the gradient of the loss with respect to y_pred\n",
    "gradients = tape.gradient(loss, y_pred)\n",
    "\n",
    "print(\"Loss:\", loss.numpy())\n",
    "print(\"Gradients:\", gradients.numpy())\n"
   ]
  }
 ],
 "metadata": {
  "kernelspec": {
   "display_name": "fashionet",
   "language": "python",
   "name": "python3"
  },
  "language_info": {
   "codemirror_mode": {
    "name": "ipython",
    "version": 3
   },
   "file_extension": ".py",
   "mimetype": "text/x-python",
   "name": "python",
   "nbconvert_exporter": "python",
   "pygments_lexer": "ipython3",
   "version": "3.10.16"
  }
 },
 "nbformat": 4,
 "nbformat_minor": 2
}
