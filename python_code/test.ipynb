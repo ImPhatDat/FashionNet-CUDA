{
 "cells": [
  {
   "cell_type": "code",
   "execution_count": 2,
   "metadata": {},
   "outputs": [],
   "source": [
    "import tensorflow as tf\n",
    "import keras\n",
    "import numpy as np"
   ]
  },
  {
   "cell_type": "code",
   "execution_count": 4,
   "metadata": {},
   "outputs": [
    {
     "data": {
      "text/plain": [
       "((3,), (3, 4))"
      ]
     },
     "execution_count": 4,
     "metadata": {},
     "output_type": "execute_result"
    },
    {
     "ename": "",
     "evalue": "",
     "output_type": "error",
     "traceback": [
      "\u001b[1;31mnotebook controller is DISPOSED. \n",
      "\u001b[1;31mView Jupyter <a href='command:jupyter.viewOutput'>log</a> for further details."
     ]
    }
   ],
   "source": [
    "y_true = np.array([1, 3, 0])\n",
    "y_pred = np.array([[0.1, 0.7, 0.1, 0.1],\n",
    "                  [0.2, 0.1, 0.3, 0.4],\n",
    "                  [0.8, 0.05, 0.1, 0.05]])\n",
    "y_true.shape, y_pred.shape"
   ]
  },
  {
   "cell_type": "code",
   "execution_count": 6,
   "metadata": {},
   "outputs": [
    {
     "data": {
      "text/plain": [
       "<tf.Tensor: shape=(), dtype=float32, numpy=0.49870303>"
      ]
     },
     "execution_count": 6,
     "metadata": {},
     "output_type": "execute_result"
    },
    {
     "ename": "",
     "evalue": "",
     "output_type": "error",
     "traceback": [
      "\u001b[1;31mnotebook controller is DISPOSED. \n",
      "\u001b[1;31mView Jupyter <a href='command:jupyter.viewOutput'>log</a> for further details."
     ]
    }
   ],
   "source": [
    "# Define loss object\n",
    "loss_obj = keras.losses.SparseCategoricalCrossentropy(from_logits=False)\n",
    "\n",
    "# Compute the gradient\n",
    "with tf.GradientTape() as tape:\n",
    "    tape.watch(y_pred)  # Watch the predicted values\n",
    "    loss = loss_obj(y_true, y_pred)  # Calculate the loss\n",
    "\n",
    "# Get the gradient of the loss with respect to y_pred\n",
    "gradients = tape.gradient(loss, y_pred)\n",
    "\n",
    "print(\"Loss:\", loss.numpy())\n",
    "print(\"Gradients:\", gradients.numpy())\n"
   ]
  }
 ],
 "metadata": {
  "kernelspec": {
   "display_name": "palell",
   "language": "python",
   "name": "python3"
  },
  "language_info": {
   "codemirror_mode": {
    "name": "ipython",
    "version": 3
   },
   "file_extension": ".py",
   "mimetype": "text/x-python",
   "name": "python",
   "nbconvert_exporter": "python",
   "pygments_lexer": "ipython3",
   "version": "3.12.7"
  }
 },
 "nbformat": 4,
 "nbformat_minor": 2
}
